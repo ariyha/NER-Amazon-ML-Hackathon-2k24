{
 "cells": [
  {
   "cell_type": "code",
   "execution_count": 10,
   "metadata": {},
   "outputs": [],
   "source": [
    "import sys\n",
    "import pandas as pd\n",
    "sys.path.append('src')"
   ]
  },
  {
   "cell_type": "code",
   "execution_count": 5,
   "metadata": {},
   "outputs": [],
   "source": [
    "import utils"
   ]
  },
  {
   "cell_type": "code",
   "execution_count": 11,
   "metadata": {},
   "outputs": [],
   "source": [
    "train = pd.read_csv('dataset/train.csv')"
   ]
  },
  {
   "cell_type": "code",
   "execution_count": 12,
   "metadata": {},
   "outputs": [
    {
     "name": "stderr",
     "output_type": "stream",
     "text": [
      "Exception in thread Thread-49 (_handle_workers):\n",
      "Traceback (most recent call last):\n",
      "  File \"c:\\Users\\nithi\\anaconda3\\envs\\college\\Lib\\threading.py\", line 1045, in _bootstrap_inner\n",
      "    self.run()\n",
      "  File \"c:\\Users\\nithi\\anaconda3\\envs\\college\\Lib\\threading.py\", line 982, in run\n",
      "    self._target(*self._args, **self._kwargs)\n",
      "  File \"c:\\Users\\nithi\\anaconda3\\envs\\college\\Lib\\multiprocessing\\pool.py\", line 522, in _handle_workers\n",
      "    cls._wait_for_updates(current_sentinels, change_notifier)\n",
      "  File \"c:\\Users\\nithi\\anaconda3\\envs\\college\\Lib\\multiprocessing\\pool.py\", line 502, in _wait_for_updates\n",
      "    wait(sentinels, timeout=timeout)\n",
      "  File \"c:\\Users\\nithi\\anaconda3\\envs\\college\\Lib\\multiprocessing\\connection.py\", line 896, in wait\n",
      "  0%|          | 0/263859 [00:00<?, ?it/s]    ready_handles = _exhaustive_wait(waithandle_to_obj.keys(), timeout)\n",
      "                    ^^^^^^^^^^^^^^^^^^^^^^^^^^^^^^^^^^^^^^^^^^^^^^^^^^^\n",
      "  File \"c:\\Users\\nithi\\anaconda3\\envs\\college\\Lib\\multiprocessing\\connection.py\", line 828, in _exhaustive_wait\n",
      "    res = _winapi.WaitForMultipleObjects(L, False, timeout)\n",
      "          ^^^^^^^^^^^^^^^^^^^^^^^^^^^^^^^^^^^^^^^^^^^^^^^^^\n",
      "ValueError: need at most 63 handles, got a sequence of length 66\n",
      "  1%|          | 1440/263859 [05:10<11:13:11,  6.50it/s]"
     ]
    }
   ],
   "source": [
    "from utils import download_images\n",
    "download_images(train['image_link'], '../images/train')"
   ]
  }
 ],
 "metadata": {
  "kernelspec": {
   "display_name": "college",
   "language": "python",
   "name": "python3"
  },
  "language_info": {
   "codemirror_mode": {
    "name": "ipython",
    "version": 3
   },
   "file_extension": ".py",
   "mimetype": "text/x-python",
   "name": "python",
   "nbconvert_exporter": "python",
   "pygments_lexer": "ipython3",
   "version": "3.11.9"
  }
 },
 "nbformat": 4,
 "nbformat_minor": 2
}
